{
 "cells": [
  {
   "cell_type": "markdown",
   "id": "9156924c",
   "metadata": {},
   "source": [
    "#Homework 1#"
   ]
  },
  {
   "cell_type": "code",
   "execution_count": 1,
   "id": "b38cf311",
   "metadata": {},
   "outputs": [],
   "source": [
    "#Imports\n",
    "import pandas as pd\n",
    "import numpy as np"
   ]
  },
  {
   "cell_type": "markdown",
   "id": "c1bd4eab",
   "metadata": {},
   "source": [
    "**Q1. Pandas version** <br>\n",
    "What's the version of Pandas that you installed?"
   ]
  },
  {
   "cell_type": "code",
   "execution_count": 2,
   "id": "24848248",
   "metadata": {},
   "outputs": [
    {
     "data": {
      "text/plain": [
       "'2.3.2'"
      ]
     },
     "execution_count": 2,
     "metadata": {},
     "output_type": "execute_result"
    }
   ],
   "source": [
    "pd.__version__"
   ]
  },
  {
   "cell_type": "code",
   "execution_count": null,
   "id": "b701179c",
   "metadata": {},
   "outputs": [],
   "source": [
    "#Import data to local folder\n",
    "#wget https://raw.githubusercontent.com/alexeygrigorev/datasets/master/car_fuel_efficiency.csv"
   ]
  },
  {
   "cell_type": "markdown",
   "id": "8384052c",
   "metadata": {},
   "source": [
    "**Q2. Records count** <br>\n",
    "How many records are in the dataset?<br>\n",
    "\n",
    "4704<br>\n",
    "8704<br>\n",
    "9704<br>\n",
    "17704<br>"
   ]
  },
  {
   "cell_type": "code",
   "execution_count": 3,
   "id": "702a2c30",
   "metadata": {},
   "outputs": [
    {
     "name": "stdout",
     "output_type": "stream",
     "text": [
      "(9704, 11)\n"
     ]
    }
   ],
   "source": [
    "data = pd.read_csv('car_fuel_efficiency.csv')\n",
    "\n",
    "print(data.shape)"
   ]
  },
  {
   "cell_type": "code",
   "execution_count": 10,
   "id": "950f6bcd",
   "metadata": {},
   "outputs": [
    {
     "name": "stdout",
     "output_type": "stream",
     "text": [
      "   engine_displacement  num_cylinders  horsepower  vehicle_weight  \\\n",
      "0                  170            3.0       159.0     3413.433759   \n",
      "1                  130            5.0        97.0     3149.664934   \n",
      "2                  170            NaN        78.0     3079.038997   \n",
      "\n",
      "   acceleration  model_year  origin fuel_type         drivetrain  num_doors  \\\n",
      "0          17.7        2003  Europe  Gasoline    All-wheel drive        0.0   \n",
      "1          17.8        2007     USA  Gasoline  Front-wheel drive        0.0   \n",
      "2          15.1        2018  Europe  Gasoline  Front-wheel drive        0.0   \n",
      "\n",
      "   fuel_efficiency_mpg  \n",
      "0            13.231729  \n",
      "1            13.688217  \n",
      "2            14.246341  \n"
     ]
    }
   ],
   "source": [
    "print(data.head(3))"
   ]
  },
  {
   "cell_type": "code",
   "execution_count": 4,
   "id": "8b18de4d",
   "metadata": {},
   "outputs": [
    {
     "name": "stdout",
     "output_type": "stream",
     "text": [
      "origin\n",
      "Europe    3254\n",
      "Asia      3247\n",
      "USA       3203\n",
      "Name: count, dtype: int64\n"
     ]
    }
   ],
   "source": [
    "print(data['origin'].value_counts())"
   ]
  },
  {
   "cell_type": "markdown",
   "id": "38be6961",
   "metadata": {},
   "source": [
    "**Q3. Fuel types** <br>\n",
    "How many fuel types are presented in the dataset?<br>\n",
    "\n",
    "1<br>\n",
    "2<br>\n",
    "3<br>\n",
    "4<br>"
   ]
  },
  {
   "cell_type": "code",
   "execution_count": 5,
   "id": "241a70a9",
   "metadata": {},
   "outputs": [
    {
     "name": "stdout",
     "output_type": "stream",
     "text": [
      "fuel_type\n",
      "Gasoline    4898\n",
      "Diesel      4806\n",
      "Name: count, dtype: int64\n"
     ]
    }
   ],
   "source": [
    "print(data['fuel_type'].value_counts()) "
   ]
  },
  {
   "cell_type": "code",
   "execution_count": 6,
   "id": "9691257c",
   "metadata": {},
   "outputs": [
    {
     "data": {
      "text/html": [
       "<div>\n",
       "<style scoped>\n",
       "    .dataframe tbody tr th:only-of-type {\n",
       "        vertical-align: middle;\n",
       "    }\n",
       "\n",
       "    .dataframe tbody tr th {\n",
       "        vertical-align: top;\n",
       "    }\n",
       "\n",
       "    .dataframe thead th {\n",
       "        text-align: right;\n",
       "    }\n",
       "</style>\n",
       "<table border=\"1\" class=\"dataframe\">\n",
       "  <thead>\n",
       "    <tr style=\"text-align: right;\">\n",
       "      <th></th>\n",
       "      <th>engine_displacement</th>\n",
       "      <th>num_cylinders</th>\n",
       "      <th>horsepower</th>\n",
       "      <th>vehicle_weight</th>\n",
       "      <th>acceleration</th>\n",
       "      <th>model_year</th>\n",
       "      <th>num_doors</th>\n",
       "      <th>fuel_efficiency_mpg</th>\n",
       "    </tr>\n",
       "  </thead>\n",
       "  <tbody>\n",
       "    <tr>\n",
       "      <th>count</th>\n",
       "      <td>9704.000000</td>\n",
       "      <td>9222.000000</td>\n",
       "      <td>8996.000000</td>\n",
       "      <td>9704.000000</td>\n",
       "      <td>8774.000000</td>\n",
       "      <td>9704.000000</td>\n",
       "      <td>9202.000000</td>\n",
       "      <td>9704.000000</td>\n",
       "    </tr>\n",
       "    <tr>\n",
       "      <th>mean</th>\n",
       "      <td>199.708368</td>\n",
       "      <td>3.962481</td>\n",
       "      <td>149.657292</td>\n",
       "      <td>3001.280993</td>\n",
       "      <td>15.021928</td>\n",
       "      <td>2011.484027</td>\n",
       "      <td>-0.006412</td>\n",
       "      <td>14.985243</td>\n",
       "    </tr>\n",
       "    <tr>\n",
       "      <th>std</th>\n",
       "      <td>49.455319</td>\n",
       "      <td>1.999323</td>\n",
       "      <td>29.879555</td>\n",
       "      <td>497.894860</td>\n",
       "      <td>2.510339</td>\n",
       "      <td>6.659808</td>\n",
       "      <td>1.048162</td>\n",
       "      <td>2.556468</td>\n",
       "    </tr>\n",
       "    <tr>\n",
       "      <th>min</th>\n",
       "      <td>10.000000</td>\n",
       "      <td>0.000000</td>\n",
       "      <td>37.000000</td>\n",
       "      <td>952.681761</td>\n",
       "      <td>6.000000</td>\n",
       "      <td>2000.000000</td>\n",
       "      <td>-4.000000</td>\n",
       "      <td>6.200971</td>\n",
       "    </tr>\n",
       "    <tr>\n",
       "      <th>25%</th>\n",
       "      <td>170.000000</td>\n",
       "      <td>3.000000</td>\n",
       "      <td>130.000000</td>\n",
       "      <td>2666.248985</td>\n",
       "      <td>13.300000</td>\n",
       "      <td>2006.000000</td>\n",
       "      <td>-1.000000</td>\n",
       "      <td>13.267459</td>\n",
       "    </tr>\n",
       "    <tr>\n",
       "      <th>50%</th>\n",
       "      <td>200.000000</td>\n",
       "      <td>4.000000</td>\n",
       "      <td>149.000000</td>\n",
       "      <td>2993.226296</td>\n",
       "      <td>15.000000</td>\n",
       "      <td>2012.000000</td>\n",
       "      <td>0.000000</td>\n",
       "      <td>15.006037</td>\n",
       "    </tr>\n",
       "    <tr>\n",
       "      <th>75%</th>\n",
       "      <td>230.000000</td>\n",
       "      <td>5.000000</td>\n",
       "      <td>170.000000</td>\n",
       "      <td>3334.957039</td>\n",
       "      <td>16.700000</td>\n",
       "      <td>2017.000000</td>\n",
       "      <td>1.000000</td>\n",
       "      <td>16.707965</td>\n",
       "    </tr>\n",
       "    <tr>\n",
       "      <th>max</th>\n",
       "      <td>380.000000</td>\n",
       "      <td>13.000000</td>\n",
       "      <td>271.000000</td>\n",
       "      <td>4739.077089</td>\n",
       "      <td>24.300000</td>\n",
       "      <td>2023.000000</td>\n",
       "      <td>4.000000</td>\n",
       "      <td>25.967222</td>\n",
       "    </tr>\n",
       "  </tbody>\n",
       "</table>\n",
       "</div>"
      ],
      "text/plain": [
       "       engine_displacement  num_cylinders   horsepower  vehicle_weight  \\\n",
       "count          9704.000000    9222.000000  8996.000000     9704.000000   \n",
       "mean            199.708368       3.962481   149.657292     3001.280993   \n",
       "std              49.455319       1.999323    29.879555      497.894860   \n",
       "min              10.000000       0.000000    37.000000      952.681761   \n",
       "25%             170.000000       3.000000   130.000000     2666.248985   \n",
       "50%             200.000000       4.000000   149.000000     2993.226296   \n",
       "75%             230.000000       5.000000   170.000000     3334.957039   \n",
       "max             380.000000      13.000000   271.000000     4739.077089   \n",
       "\n",
       "       acceleration   model_year    num_doors  fuel_efficiency_mpg  \n",
       "count   8774.000000  9704.000000  9202.000000          9704.000000  \n",
       "mean      15.021928  2011.484027    -0.006412            14.985243  \n",
       "std        2.510339     6.659808     1.048162             2.556468  \n",
       "min        6.000000  2000.000000    -4.000000             6.200971  \n",
       "25%       13.300000  2006.000000    -1.000000            13.267459  \n",
       "50%       15.000000  2012.000000     0.000000            15.006037  \n",
       "75%       16.700000  2017.000000     1.000000            16.707965  \n",
       "max       24.300000  2023.000000     4.000000            25.967222  "
      ]
     },
     "execution_count": 6,
     "metadata": {},
     "output_type": "execute_result"
    }
   ],
   "source": [
    "data.describe()"
   ]
  },
  {
   "cell_type": "markdown",
   "id": "be211d5b",
   "metadata": {},
   "source": [
    "**Q4. Missing values** <br>\n",
    "How many columns in the dataset have missing values?<br>\n",
    "\n",
    "0<br>\n",
    "1<br>\n",
    "2<br>\n",
    "3<br>\n",
    "4<br>"
   ]
  },
  {
   "cell_type": "code",
   "execution_count": 7,
   "id": "bc4bda05",
   "metadata": {},
   "outputs": [
    {
     "data": {
      "text/plain": [
       "engine_displacement      0\n",
       "num_cylinders          482\n",
       "horsepower             708\n",
       "vehicle_weight           0\n",
       "acceleration           930\n",
       "model_year               0\n",
       "origin                   0\n",
       "fuel_type                0\n",
       "drivetrain               0\n",
       "num_doors              502\n",
       "fuel_efficiency_mpg      0\n",
       "dtype: int64"
      ]
     },
     "execution_count": 7,
     "metadata": {},
     "output_type": "execute_result"
    }
   ],
   "source": [
    "data.isnull().sum()"
   ]
  },
  {
   "cell_type": "markdown",
   "id": "b1d3ef4e",
   "metadata": {},
   "source": [
    "**Q5. Max fuel efficiency** <br>\n",
    "What's the maximum fuel efficiency of cars from Asia?<br>\n",
    "\n",
    "13.75<br>\n",
    "23.75<br>\n",
    "33.75<br>\n",
    "43.75<br>"
   ]
  },
  {
   "cell_type": "code",
   "execution_count": 8,
   "id": "543f1573",
   "metadata": {},
   "outputs": [
    {
     "data": {
      "text/plain": [
       "np.float64(23.759122836520497)"
      ]
     },
     "execution_count": 8,
     "metadata": {},
     "output_type": "execute_result"
    }
   ],
   "source": [
    "data1 = data[data['origin']=='Asia']\n",
    "data1['fuel_efficiency_mpg'].max()\n",
    "#print(data1.shape())"
   ]
  },
  {
   "cell_type": "markdown",
   "id": "60404b98",
   "metadata": {},
   "source": [
    "**Q6. Median value of horsepower**\n",
    "\n",
    "Find the median value of horsepower column in the dataset.<br>\n",
    "Next, calculate the most frequent value of the same horsepower column.<br>\n",
    "Use fillna method to fill the missing values in horsepower column with the most frequent value from the previous step.<br>\n",
    "Now, calculate the median value of horsepower once again.<br>\n",
    "\n",
    "Has it changed?<br>\n",
    "\n",
    "Yes, it increased <br>\n",
    "Yes, it decreased <br>\n",
    "No"
   ]
  },
  {
   "cell_type": "code",
   "execution_count": null,
   "id": "d5648490",
   "metadata": {},
   "outputs": [
    {
     "name": "stdout",
     "output_type": "stream",
     "text": [
      "Median Value:  149.0\n",
      "Most Frequent Value:  152.0\n",
      "New Median Value:  152.0\n"
     ]
    }
   ],
   "source": [
    "mdn = data['horsepower'].median()\n",
    "print(\"Median Value: \", mdn)\n",
    "\n",
    "mfv = data['horsepower'].mode()[0]\n",
    "print(\"Most Frequent Value: \", mfv)\n",
    "\n",
    "data['horsepower']=data['horsepower'].fillna(mfv)\n",
    "\n",
    "mdn1 = data['horsepower'].median()\n",
    "print(\"New Median Value: \", mdn1)"
   ]
  },
  {
   "cell_type": "markdown",
   "id": "485a729c",
   "metadata": {},
   "source": [
    "**Q7. Sum of weights**\n",
    "1. Select all the cars from Asia<br>\n",
    "2. Select only columns vehicle_weight and model_year<br>\n",
    "3. Select the first 7 values<br>\n",
    "4. Get the underlying NumPy array. Let's call it X.<br>\n",
    "5. Compute matrix-matrix multiplication between the transpose of X and X. To get the transpose, use X.T. Let's call the result XTX.<br>\n",
    "6. Invert XTX.<br>\n",
    "7. Create an array y with values [1100, 1300, 800, 900, 1000, 1100, 1200].<br>\n",
    "8. Multiply the inverse of XTX with the transpose of X, and then multiply the result by y. Call the result w.<br>\n",
    "9. What's the sum of all the elements of the result?<br>"
   ]
  },
  {
   "cell_type": "code",
   "execution_count": 34,
   "id": "1010af64",
   "metadata": {},
   "outputs": [
    {
     "name": "stdout",
     "output_type": "stream",
     "text": [
      "    vehicle_weight  model_year\n",
      "8      2714.219310        2016\n",
      "12     2783.868974        2010\n",
      "14     3582.687368        2007\n",
      "20     2231.808142        2011\n",
      "21     2659.431451        2016\n",
      "34     2844.227534        2014\n",
      "38     3761.994038        2019\n",
      "[[62248334.33150762 41431216.5073268 ]\n",
      " [41431216.5073268  28373339.        ]]\n",
      "[[ 5.71497081e-07 -8.34509443e-07]\n",
      " [-8.34509443e-07  1.25380877e-06]]\n",
      "[1100 1300  800  900 1000 1100 1200]\n",
      "[0.01386421 0.5049067 ]\n",
      "W Sum:  0.5187709081074016\n"
     ]
    }
   ],
   "source": [
    "# Q1 to Q3\n",
    "data_asia = data.loc[(data['origin']=='Asia',['vehicle_weight','model_year'])].head(7)\n",
    "print(data_asia)\n",
    "\n",
    "# Q4\n",
    "X = data_asia.to_numpy()\n",
    "\n",
    "# Q5\n",
    "XTX = X.T @ X\n",
    "print(XTX)\n",
    "\n",
    "# Q6\n",
    "XTX=np.linalg.inv(XTX)\n",
    "print(XTX)\n",
    "\n",
    "# Q7\n",
    "Y = np.array([1100, 1300, 800, 900, 1000, 1100, 1200])\n",
    "print(Y)\n",
    "\n",
    "# Q8\n",
    "W = (XTX @ X.T) @ Y\n",
    "print(W)\n",
    "\n",
    "# Q9\n",
    "wsum = W.sum()\n",
    "print(\"W Sum: \", wsum)\n"
   ]
  }
 ],
 "metadata": {
  "kernelspec": {
   "display_name": "ml_env",
   "language": "python",
   "name": "python3"
  },
  "language_info": {
   "codemirror_mode": {
    "name": "ipython",
    "version": 3
   },
   "file_extension": ".py",
   "mimetype": "text/x-python",
   "name": "python",
   "nbconvert_exporter": "python",
   "pygments_lexer": "ipython3",
   "version": "3.11.13"
  }
 },
 "nbformat": 4,
 "nbformat_minor": 5
}
